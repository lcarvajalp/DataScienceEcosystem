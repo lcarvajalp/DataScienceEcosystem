{
 "cells": [
  {
   "cell_type": "markdown",
   "id": "03835168-de51-43b5-9898-dfd239276f46",
   "metadata": {},
   "source": [
    "# Data Science Tools and Ecosystem"
   ]
  },
  {
   "cell_type": "markdown",
   "id": "41aa9f2b-9c1c-425f-9c6a-4a67877c7a7f",
   "metadata": {},
   "source": [
    "In this notebook, Data Science Tools and Ecosystem are summarized"
   ]
  },
  {
   "cell_type": "markdown",
   "id": "6d288635-bd89-4f03-828b-288f1030b0bb",
   "metadata": {},
   "source": [
    "***Objectives:***\n",
    "* SQL\n",
    "* Julia\n",
    "* Python"
   ]
  },
  {
   "cell_type": "markdown",
   "id": "928d9b44-6dba-44b2-beae-86109457a96b",
   "metadata": {},
   "source": [
    "Some of the popular languages that Data Scientists use are:\n",
    "1. Python\n",
    "2. SQL\n",
    "3. Julia"
   ]
  },
  {
   "cell_type": "markdown",
   "id": "6957a957-6848-4943-8d0c-77b088ec330d",
   "metadata": {},
   "source": [
    "Some of the commonly used libraries used by Data Scientists include:\n",
    "1. Numpy\n",
    "2. Scipy\n",
    "3. Keras\n",
    "4. TensorFlow"
   ]
  },
  {
   "cell_type": "markdown",
   "id": "292b6d6d-9e9a-46ce-9b36-983278009e44",
   "metadata": {},
   "source": [
    "\n",
    "| Data Science Tools|\n",
    "|:----:|\n",
    "|RStudio|\n",
    "|Apache Spark|\n",
    "|Apache Hadoop|\n"
   ]
  },
  {
   "cell_type": "markdown",
   "id": "9425e52b-518b-471f-bd09-b7773ab6753a",
   "metadata": {},
   "source": [
    "### Below are a few examples of evaluating arithmetic expressions in Python "
   ]
  },
  {
   "cell_type": "code",
   "execution_count": 1,
   "id": "f55b3ebd-cc77-4ccb-a69e-1054819aa60b",
   "metadata": {
    "tags": []
   },
   "outputs": [
    {
     "data": {
      "text/plain": [
       "17"
      ]
     },
     "execution_count": 1,
     "metadata": {},
     "output_type": "execute_result"
    }
   ],
   "source": [
    "# This a simple arithmetic expression to mutiply then add integers\n",
    "(3*4)+5"
   ]
  },
  {
   "cell_type": "code",
   "execution_count": 9,
   "id": "d6a0a01f-818d-4cd7-84ab-9d60a8fb738f",
   "metadata": {
    "tags": []
   },
   "outputs": [
    {
     "name": "stdout",
     "output_type": "stream",
     "text": [
      "Minutes= 200\n",
      "Hours= 3 : 20\n"
     ]
    }
   ],
   "source": [
    "#  This will convert 200 minutes to hours by diving by 60\n",
    "min=200\n",
    "h=min//60\n",
    "m=min%60\n",
    "\n",
    "print(\"Minutes=\",min)\n",
    "print(\"Hours=\",h,':',m)"
   ]
  },
  {
   "cell_type": "markdown",
   "id": "300c66e0-d447-480e-8dc1-f9cf6b0f9d37",
   "metadata": {},
   "source": [
    "## Author\n",
    "Luis Carvajal"
   ]
  },
  {
   "cell_type": "code",
   "execution_count": null,
   "id": "2887b68c-7a3c-4bcc-9aa7-7efb761c3318",
   "metadata": {},
   "outputs": [],
   "source": []
  }
 ],
 "metadata": {
  "kernelspec": {
   "display_name": "Python",
   "language": "python",
   "name": "conda-env-python-py"
  },
  "language_info": {
   "codemirror_mode": {
    "name": "ipython",
    "version": 3
   },
   "file_extension": ".py",
   "mimetype": "text/x-python",
   "name": "python",
   "nbconvert_exporter": "python",
   "pygments_lexer": "ipython3",
   "version": "3.7.12"
  }
 },
 "nbformat": 4,
 "nbformat_minor": 5
}
